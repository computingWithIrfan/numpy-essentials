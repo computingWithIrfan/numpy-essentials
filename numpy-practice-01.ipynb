{
 "cells": [
  {
   "cell_type": "markdown",
   "id": "e12b1298-b5b1-405f-85d8-2c68dd37a11c",
   "metadata": {},
   "source": [
    "# Numpy : Numerical python"
   ]
  },
  {
   "cell_type": "code",
   "execution_count": 2,
   "id": "277950c0-1c99-4056-a337-67bbf351b677",
   "metadata": {},
   "outputs": [],
   "source": [
    "import numpy as np"
   ]
  },
  {
   "cell_type": "markdown",
   "id": "abd22690-3a77-46cb-aef5-07aa8e0b763e",
   "metadata": {
    "jp-MarkdownHeadingCollapsed": true
   },
   "source": [
    "### Creating numpy array"
   ]
  },
  {
   "cell_type": "markdown",
   "id": "dc37261c-268e-4866-9d2d-bc8b0d098fb1",
   "metadata": {},
   "source": [
    "- #### By python list\n",
    "- 1D"
   ]
  },
  {
   "cell_type": "code",
   "execution_count": 9,
   "id": "4141b172-fdf7-4077-a24c-c75b0ebc7684",
   "metadata": {},
   "outputs": [
    {
     "data": {
      "text/plain": [
       "array([1, 2, 3, 4, 5])"
      ]
     },
     "execution_count": 9,
     "metadata": {},
     "output_type": "execute_result"
    }
   ],
   "source": [
    "li = [1,2,3,4,5]\n",
    "array1D = np.array(li)\n",
    "array1D"
   ]
  },
  {
   "cell_type": "markdown",
   "id": "8e476d22-08c5-4c07-a88e-d34c13441b86",
   "metadata": {},
   "source": [
    "- 2D"
   ]
  },
  {
   "cell_type": "code",
   "execution_count": 12,
   "id": "45b641d6-31b9-4c85-af81-a82be592edfe",
   "metadata": {},
   "outputs": [
    {
     "data": {
      "text/plain": [
       "array([[1, 2, 3],\n",
       "       [4, 5, 6],\n",
       "       [7, 8, 9]])"
      ]
     },
     "execution_count": 12,
     "metadata": {},
     "output_type": "execute_result"
    }
   ],
   "source": [
    "array2D = np.array([[1,2,3],[4,5,6],[7,8,9]])\n",
    "array2D "
   ]
  },
  {
   "cell_type": "markdown",
   "id": "0a54fec8-e290-4d31-9e20-f09b4b4a0c60",
   "metadata": {},
   "source": [
    "- #### By Built in functions\n"
   ]
  },
  {
   "cell_type": "markdown",
   "id": "ff248857-ca78-49ac-82fc-80494154df93",
   "metadata": {},
   "source": [
    "\n",
    "- np.ones((3, 4)) : Create an array of order 3 by 4 filled with ones.\n",
    "- np.zeros((3, 4)) : Create an array of order 3 by 4 filled with zeros.\n",
    "- np.empty((3, 4)) : Create an uninitialized array of order 3 by 4.\n",
    "- np.full((3, 4), 7) : Create an array of order 3 by 4 filled with 7s.\n",
    "- np.eye(3)` : Create a 3x3 identity matrix.\n",
    "- np.diag([1, 2, 3, 4]) : Create a diagonal matrix with given values.\n",
    "- np.random.rand(3, 4) : Create an array of order 3 by 4 with random values between 0 and 1.  \n",
    "- np.random.randint(1, 10, (3, 4)) : Create an array of order 3 by 4 with random integers between 1 and 9.\n",
    "- np.arange(1, 13).reshape(3, 4) : Create an array of order 3 by 4 with numbers from 1 to 12.  \n",
    "- np.linspace(1, 10, 12).reshape(3, 4) : Create an array of order 3 by 4 with 12 evenly spaced numbers between 1 and 10.\n"
   ]
  },
  {
   "cell_type": "code",
   "execution_count": 15,
   "id": "c5e2f854-569c-45b0-a7e0-5d0cec25e1f6",
   "metadata": {},
   "outputs": [
    {
     "data": {
      "text/plain": [
       "array([[1, 1, 1, 1],\n",
       "       [1, 1, 1, 1],\n",
       "       [1, 1, 1, 1]])"
      ]
     },
     "execution_count": 15,
     "metadata": {},
     "output_type": "execute_result"
    }
   ],
   "source": [
    "arr = np.ones((3,4),dtype = int)\n",
    "arr"
   ]
  },
  {
   "cell_type": "code",
   "execution_count": 16,
   "id": "abd55f89-a4da-476e-9600-f460edc76546",
   "metadata": {},
   "outputs": [
    {
     "data": {
      "text/plain": [
       "array([[0., 0., 0.],\n",
       "       [0., 0., 0.]])"
      ]
     },
     "execution_count": 16,
     "metadata": {},
     "output_type": "execute_result"
    }
   ],
   "source": [
    "arr = np.zeros((2,3))\n",
    "arr"
   ]
  },
  {
   "cell_type": "code",
   "execution_count": 17,
   "id": "80b0ed46-7c9e-43a9-8779-08ef570895bf",
   "metadata": {},
   "outputs": [
    {
     "data": {
      "text/plain": [
       "array([[6.23042070e-307, 4.67296746e-307],\n",
       "       [1.69121096e-306, 7.78829961e-312]])"
      ]
     },
     "execution_count": 17,
     "metadata": {},
     "output_type": "execute_result"
    }
   ],
   "source": [
    "arr = np.empty((2,2))\n",
    "arr"
   ]
  },
  {
   "cell_type": "code",
   "execution_count": 18,
   "id": "b960ecc4-06cd-431e-bf9e-999c5252b7f6",
   "metadata": {},
   "outputs": [
    {
     "data": {
      "text/plain": [
       "array([[7, 7, 7],\n",
       "       [7, 7, 7],\n",
       "       [7, 7, 7]])"
      ]
     },
     "execution_count": 18,
     "metadata": {},
     "output_type": "execute_result"
    }
   ],
   "source": [
    "arr = np.full((3,3),7)\n",
    "arr"
   ]
  },
  {
   "cell_type": "code",
   "execution_count": 20,
   "id": "df3431c2-488a-4591-9d08-6386f9df2606",
   "metadata": {},
   "outputs": [
    {
     "data": {
      "text/plain": [
       "array([[1, 0, 0],\n",
       "       [0, 1, 0],\n",
       "       [0, 0, 1]])"
      ]
     },
     "execution_count": 20,
     "metadata": {},
     "output_type": "execute_result"
    }
   ],
   "source": [
    "arr = np.eye(3,dtype = int)\n",
    "arr"
   ]
  },
  {
   "cell_type": "code",
   "execution_count": 45,
   "id": "78bbfa9a-4c6b-441a-8dc4-261911f500f9",
   "metadata": {},
   "outputs": [
    {
     "data": {
      "text/plain": [
       "array([[1., 0., 0.],\n",
       "       [0., 1., 0.],\n",
       "       [0., 0., 1.]])"
      ]
     },
     "execution_count": 45,
     "metadata": {},
     "output_type": "execute_result"
    }
   ],
   "source": [
    "#same use case as eye()\n",
    "arr = np.identity(3)\n",
    "arr"
   ]
  },
  {
   "cell_type": "code",
   "execution_count": 22,
   "id": "c1e89df2-52cd-4919-8d17-838dae77fd43",
   "metadata": {},
   "outputs": [
    {
     "data": {
      "text/plain": [
       "array([[2, 0, 0],\n",
       "       [0, 3, 0],\n",
       "       [0, 0, 4]])"
      ]
     },
     "execution_count": 22,
     "metadata": {},
     "output_type": "execute_result"
    }
   ],
   "source": [
    "arr = np.diag([2,3,4])\n",
    "arr"
   ]
  },
  {
   "cell_type": "code",
   "execution_count": 25,
   "id": "e07f8bec-12f8-418d-b8d8-eb4f6301c383",
   "metadata": {},
   "outputs": [
    {
     "data": {
      "text/plain": [
       "array([[0.37831734],\n",
       "       [0.57240637]])"
      ]
     },
     "execution_count": 25,
     "metadata": {},
     "output_type": "execute_result"
    }
   ],
   "source": [
    "arr = np.random.rand(2,1)\n",
    "arr"
   ]
  },
  {
   "cell_type": "code",
   "execution_count": 28,
   "id": "23d7db5a-9359-4cd6-8ba9-e70d33202f72",
   "metadata": {},
   "outputs": [
    {
     "data": {
      "text/plain": [
       "array([[ 9,  4, 14],\n",
       "       [ 7,  7,  9],\n",
       "       [ 4,  9,  1]], dtype=int32)"
      ]
     },
     "execution_count": 28,
     "metadata": {},
     "output_type": "execute_result"
    }
   ],
   "source": [
    "arr = np.random.randint(1,15,(3,3))\n",
    "arr"
   ]
  },
  {
   "cell_type": "code",
   "execution_count": 34,
   "id": "fee266b9-e347-4c29-9866-b89c8e1d18a4",
   "metadata": {},
   "outputs": [
    {
     "data": {
      "text/plain": [
       "array([ 1,  4,  7, 10])"
      ]
     },
     "execution_count": 34,
     "metadata": {},
     "output_type": "execute_result"
    }
   ],
   "source": [
    "arr = np.arange(1,11,3) # 3 is step means it return every third element considering 1 starting element.\n",
    "arr"
   ]
  },
  {
   "cell_type": "code",
   "execution_count": 41,
   "id": "5a5ddaaa-447a-4d94-8620-c8f7454b08ad",
   "metadata": {},
   "outputs": [
    {
     "data": {
      "text/plain": [
       "array([[ 1,  4],\n",
       "       [ 7, 10]])"
      ]
     },
     "execution_count": 41,
     "metadata": {},
     "output_type": "execute_result"
    }
   ],
   "source": [
    "arr = np.arange(1,11,3).reshape(2,2) # Just reshaping or transforming previous array in 2D\n",
    "arr"
   ]
  },
  {
   "cell_type": "code",
   "execution_count": 46,
   "id": "a460f7f9-a09c-48d9-9c64-25b88b3aa5f1",
   "metadata": {},
   "outputs": [
    {
     "data": {
      "text/plain": [
       "array([ 1. ,  2.5,  4. ,  5.5,  7. ,  8.5, 10. ])"
      ]
     },
     "execution_count": 46,
     "metadata": {},
     "output_type": "execute_result"
    }
   ],
   "source": [
    "arr = np.linspace(1,10,7)\n",
    "arr"
   ]
  },
  {
   "cell_type": "markdown",
   "id": "3632cf3b-480b-4584-b651-c485d7f99d49",
   "metadata": {},
   "source": [
    "- np.tile(array,(row-repeat,column-repeat)) : repeat row and column specififed number of times"
   ]
  },
  {
   "cell_type": "code",
   "execution_count": 48,
   "id": "aefdc483-de45-42ac-81d0-5eb3fd19928a",
   "metadata": {},
   "outputs": [
    {
     "data": {
      "text/plain": [
       "array([[1, 2, 1, 2, 1, 2],\n",
       "       [3, 4, 3, 4, 3, 4],\n",
       "       [1, 2, 1, 2, 1, 2],\n",
       "       [3, 4, 3, 4, 3, 4]])"
      ]
     },
     "execution_count": 48,
     "metadata": {},
     "output_type": "execute_result"
    }
   ],
   "source": [
    "arr = [[1,2],[3,4]]\n",
    "tiled = np.tile(arr,(2,3))\n",
    "tiled"
   ]
  },
  {
   "cell_type": "markdown",
   "id": "d17d6dae-a23b-49b7-8dc4-3de9e645a610",
   "metadata": {
    "jp-MarkdownHeadingCollapsed": true
   },
   "source": [
    "### Array Attributes\n",
    "- These provides additional information about ndarrays"
   ]
  },
  {
   "cell_type": "code",
   "execution_count": 53,
   "id": "c078aef2-9968-49c5-add8-95a1fbe924ca",
   "metadata": {},
   "outputs": [
    {
     "data": {
      "text/plain": [
       "array([[1, 2],\n",
       "       [4, 5],\n",
       "       [7, 8]])"
      ]
     },
     "execution_count": 53,
     "metadata": {},
     "output_type": "execute_result"
    }
   ],
   "source": [
    "arr = np.array([[1,2],[4,5],[7,8]])\n",
    "arr"
   ]
  },
  {
   "cell_type": "code",
   "execution_count": 54,
   "id": "6b70f39b-7ff7-4d66-9eb6-acea3288babc",
   "metadata": {},
   "outputs": [
    {
     "data": {
      "text/plain": [
       "2"
      ]
     },
     "execution_count": 54,
     "metadata": {},
     "output_type": "execute_result"
    }
   ],
   "source": [
    "# ndim : returns the no of dimensions of an array\n",
    "arr.ndim"
   ]
  },
  {
   "cell_type": "code",
   "execution_count": 55,
   "id": "978fa5ef-f632-49f9-b094-b98272644ab5",
   "metadata": {},
   "outputs": [
    {
     "data": {
      "text/plain": [
       "6"
      ]
     },
     "execution_count": 55,
     "metadata": {},
     "output_type": "execute_result"
    }
   ],
   "source": [
    "# size : returns no of total elements in the array\n",
    "arr.size"
   ]
  },
  {
   "cell_type": "code",
   "execution_count": 56,
   "id": "58c0e468-4533-4b61-aba1-81914ff3ccd8",
   "metadata": {},
   "outputs": [
    {
     "data": {
      "text/plain": [
       "dtype('int64')"
      ]
     },
     "execution_count": 56,
     "metadata": {},
     "output_type": "execute_result"
    }
   ],
   "source": [
    "# dtype : returns the data type of an array\n",
    "arr.dtype"
   ]
  },
  {
   "cell_type": "code",
   "execution_count": 57,
   "id": "41d77624-8726-4a8e-8ad2-d0b6f2239b29",
   "metadata": {},
   "outputs": [
    {
     "data": {
      "text/plain": [
       "(3, 2)"
      ]
     },
     "execution_count": 57,
     "metadata": {},
     "output_type": "execute_result"
    }
   ],
   "source": [
    "# shape : returns the order of the array (no of rows , no of columns)\n",
    "arr.shape"
   ]
  },
  {
   "cell_type": "code",
   "execution_count": 58,
   "id": "5fbf4b14-7756-4eb5-9e38-c8902f3f855c",
   "metadata": {},
   "outputs": [
    {
     "data": {
      "text/plain": [
       "array([[1, 2, 4],\n",
       "       [5, 7, 8]])"
      ]
     },
     "execution_count": 58,
     "metadata": {},
     "output_type": "execute_result"
    }
   ],
   "source": [
    "# we can also change shape without using reshape function by this attribute\n",
    "arr.shape = (2,3)\n",
    "arr"
   ]
  },
  {
   "cell_type": "markdown",
   "id": "cdbdac58-6247-4aa9-a447-019908fe62ec",
   "metadata": {
    "jp-MarkdownHeadingCollapsed": true
   },
   "source": [
    "### Arithematic operations on  Arrays"
   ]
  },
  {
   "cell_type": "markdown",
   "id": "ba2e1ba6-48b7-452b-b906-7798f357c0e0",
   "metadata": {},
   "source": [
    "#### We can perform several arithematic operations between numpy arrays using both arithematic operator ( + , - , / , * ) and numpy built in functions"
   ]
  },
  {
   "cell_type": "markdown",
   "id": "55b732b4-5606-4d49-8e7d-207e4c66548c",
   "metadata": {},
   "source": [
    "##### Some operations are given below"
   ]
  },
  {
   "cell_type": "code",
   "execution_count": 6,
   "id": "f445418c-6550-44cb-8ad4-ae2bfcee0d5d",
   "metadata": {},
   "outputs": [
    {
     "name": "stdout",
     "output_type": "stream",
     "text": [
      "Addition : \n"
     ]
    },
    {
     "data": {
      "text/plain": [
       "array([[ 4,  5],\n",
       "       [ 5,  7],\n",
       "       [10, 11]])"
      ]
     },
     "execution_count": 6,
     "metadata": {},
     "output_type": "execute_result"
    }
   ],
   "source": [
    "arr1 = np.array([[2,1],[4,2],[7,3]])\n",
    "arr2 = np.array([[2,4],[1,5],[3,8]])\n",
    "addition = np.add(arr1,arr2)\n",
    "print(\"Addition : \")\n",
    "addition"
   ]
  },
  {
   "cell_type": "code",
   "execution_count": 7,
   "id": "54692a99-5f85-4636-bd5b-d7a4d2c0e5ab",
   "metadata": {},
   "outputs": [
    {
     "name": "stdout",
     "output_type": "stream",
     "text": [
      "Subtraction : \n"
     ]
    },
    {
     "data": {
      "text/plain": [
       "array([[ 0, -3],\n",
       "       [ 3, -3],\n",
       "       [ 4, -5]])"
      ]
     },
     "execution_count": 7,
     "metadata": {},
     "output_type": "execute_result"
    }
   ],
   "source": [
    "arr1 = np.array([[2,1],[4,2],[7,3]])\n",
    "arr2 = np.array([[2,4],[1,5],[3,8]])\n",
    "subtract = np.subtract(arr1,arr2)\n",
    "print(\"Subtraction : \")\n",
    "subtract"
   ]
  },
  {
   "cell_type": "code",
   "execution_count": 8,
   "id": "b2d283ee-3546-47d3-ba9e-2936557ed928",
   "metadata": {},
   "outputs": [
    {
     "name": "stdout",
     "output_type": "stream",
     "text": [
      "Multiplication : \n"
     ]
    },
    {
     "data": {
      "text/plain": [
       "array([[ 4,  4],\n",
       "       [ 4, 10],\n",
       "       [21, 24]])"
      ]
     },
     "execution_count": 8,
     "metadata": {},
     "output_type": "execute_result"
    }
   ],
   "source": [
    "arr1 = np.array([[2,1],[4,2],[7,3]])\n",
    "arr2 = np.array([[2,4],[1,5],[3,8]])\n",
    "mul = np.multiply(arr1,arr2)\n",
    "print(\"Multiplication : \")\n",
    "mul"
   ]
  },
  {
   "cell_type": "code",
   "execution_count": 12,
   "id": "f3f6e9ac-ec2e-468c-a67a-3c24c02103aa",
   "metadata": {},
   "outputs": [
    {
     "name": "stdout",
     "output_type": "stream",
     "text": [
      "Division : \n"
     ]
    },
    {
     "data": {
      "text/plain": [
       "array([[1.        , 0.25      ],\n",
       "       [4.        , 0.4       ],\n",
       "       [2.33333333, 0.375     ]])"
      ]
     },
     "execution_count": 12,
     "metadata": {},
     "output_type": "execute_result"
    }
   ],
   "source": [
    "arr1 = np.array([[2,1],[4,2],[7,3]])\n",
    "arr2 = np.array([[2,4],[1,5],[3,8]])\n",
    "div = np.divide(arr1,arr2)  # arr1/arr2\n",
    "print(\"Division : \")\n",
    "div"
   ]
  },
  {
   "cell_type": "code",
   "execution_count": 11,
   "id": "ad45769f-138a-4fbc-a0de-2d7ea5c183f1",
   "metadata": {},
   "outputs": [
    {
     "name": "stdout",
     "output_type": "stream",
     "text": [
      "Power : \n"
     ]
    },
    {
     "data": {
      "text/plain": [
       "array([[   4,    1],\n",
       "       [   4,   32],\n",
       "       [ 343, 6561]])"
      ]
     },
     "execution_count": 11,
     "metadata": {},
     "output_type": "execute_result"
    }
   ],
   "source": [
    "arr1 = np.array([[2,1],[4,2],[7,3]])\n",
    "arr2 = np.array([[2,4],[1,5],[3,8]])\n",
    "power = np.power(arr1,arr2) # arr1 = base and arr2 = power\n",
    "print(\"Power : \")\n",
    "power"
   ]
  },
  {
   "cell_type": "code",
   "execution_count": 13,
   "id": "58f2d648-595e-4c91-9483-4e56aa14a1fb",
   "metadata": {},
   "outputs": [
    {
     "name": "stdout",
     "output_type": "stream",
     "text": [
      "Remainder : \n"
     ]
    },
    {
     "data": {
      "text/plain": [
       "array([[0, 1],\n",
       "       [0, 2],\n",
       "       [1, 3]])"
      ]
     },
     "execution_count": 13,
     "metadata": {},
     "output_type": "execute_result"
    }
   ],
   "source": [
    "arr1 = np.array([[2,1],[4,2],[7,3]])\n",
    "arr2 = np.array([[2,4],[1,5],[3,8]])\n",
    "modulus = np.mod(arr1,arr2)\n",
    "print(\"Remainder : \")\n",
    "modulus"
   ]
  },
  {
   "cell_type": "code",
   "execution_count": 15,
   "id": "b4990ed6-e5ba-4175-a181-d9ca7da68a04",
   "metadata": {},
   "outputs": [
    {
     "name": "stdout",
     "output_type": "stream",
     "text": [
      "Square Root : \n"
     ]
    },
    {
     "data": {
      "text/plain": [
       "array([[1.41421356, 1.        ],\n",
       "       [2.        , 1.41421356],\n",
       "       [2.64575131, 1.73205081]])"
      ]
     },
     "execution_count": 15,
     "metadata": {},
     "output_type": "execute_result"
    }
   ],
   "source": [
    "arr1 = np.array([[2,1],[4,2],[7,3]])\n",
    "sqrt = np.sqrt(arr1)\n",
    "print(\"Square Root : \")\n",
    "sqrt"
   ]
  },
  {
   "cell_type": "code",
   "execution_count": 18,
   "id": "d4326310-b019-46e7-8b3a-1cac97b9f808",
   "metadata": {},
   "outputs": [
    {
     "name": "stdout",
     "output_type": "stream",
     "text": [
      "Reciprocal : \n"
     ]
    },
    {
     "data": {
      "text/plain": [
       "array([[0, 1],\n",
       "       [0, 0],\n",
       "       [0, 0]])"
      ]
     },
     "execution_count": 18,
     "metadata": {},
     "output_type": "execute_result"
    }
   ],
   "source": [
    "arr1 = np.array([[2,1],[4,2],[7,3]])\n",
    "reci = np.reciprocal(arr1)\n",
    "print(\"Reciprocal : \")\n",
    "reci"
   ]
  },
  {
   "cell_type": "code",
   "execution_count": 22,
   "id": "16761682-8b1a-4ac7-80c6-a3490b06adf4",
   "metadata": {},
   "outputs": [
    {
     "data": {
      "text/plain": [
       "array([-0.44807362,  0.87758256])"
      ]
     },
     "execution_count": 22,
     "metadata": {},
     "output_type": "execute_result"
    }
   ],
   "source": [
    "angles = np.array( [90,0.5])\n",
    "arr = np.cos(angles)\n",
    "arr"
   ]
  },
  {
   "cell_type": "markdown",
   "id": "d4aea664-8261-48de-b5b6-dbf1c745c8ec",
   "metadata": {
    "jp-MarkdownHeadingCollapsed": true
   },
   "source": [
    "### Maximum and Minimum"
   ]
  },
  {
   "cell_type": "code",
   "execution_count": 29,
   "id": "d81f7a13-53b4-498b-a91e-747f85079740",
   "metadata": {},
   "outputs": [
    {
     "name": "stdout",
     "output_type": "stream",
     "text": [
      "9\n"
     ]
    }
   ],
   "source": [
    "arr = np.array([[2,1,3],[9,5,6]])\n",
    "max = np.max(arr)\n",
    "print(max)"
   ]
  },
  {
   "cell_type": "code",
   "execution_count": 28,
   "id": "763d3270-78c6-4aa7-9990-f8ffedfaec2e",
   "metadata": {},
   "outputs": [
    {
     "name": "stdout",
     "output_type": "stream",
     "text": [
      "1\n"
     ]
    }
   ],
   "source": [
    "arr = np.array([[2,1,3],[9,5,6]])\n",
    "min = np.min(arr)\n",
    "print(min)"
   ]
  },
  {
   "cell_type": "markdown",
   "id": "ddb3c749-ad23-4ea4-87db-740fbb60949e",
   "metadata": {},
   "source": [
    "- We can also pass a key-pair arguement 'axis' in min and max function.\n",
    "- When axis = 0. we are finding max or min element of each column.\n",
    "- When axis = 1. we are finding max or min element of each row."
   ]
  },
  {
   "cell_type": "markdown",
   "id": "1cd63986-1bde-4e95-95c6-def7b0c2723c",
   "metadata": {},
   "source": [
    "##### Maximum in columns"
   ]
  },
  {
   "cell_type": "code",
   "execution_count": 31,
   "id": "0f3bd8f0-c563-44ab-a1f6-914d2c936d51",
   "metadata": {},
   "outputs": [
    {
     "name": "stdout",
     "output_type": "stream",
     "text": [
      "[[ 2 14  3]\n",
      " [ 9  5  6]] \n",
      "\n",
      "[ 9 14  6]\n"
     ]
    }
   ],
   "source": [
    "arr = np.array([[2,14,3],[9,5,6]])\n",
    "max = np.max(arr,axis=0)\n",
    "print(arr,'\\n')\n",
    "print(max)"
   ]
  },
  {
   "cell_type": "markdown",
   "id": "e60776d7-ed4c-46af-9b49-1bf0a4c5547f",
   "metadata": {},
   "source": [
    "##### Minimum in columns"
   ]
  },
  {
   "cell_type": "code",
   "execution_count": 32,
   "id": "b8c332f7-3268-4839-bf5c-629a63e4d4f1",
   "metadata": {},
   "outputs": [
    {
     "name": "stdout",
     "output_type": "stream",
     "text": [
      "[[ 2 14  3]\n",
      " [ 9  5  6]] \n",
      "\n",
      "[2 5 3]\n"
     ]
    }
   ],
   "source": [
    "arr = np.array([[2,14,3],[9,5,6]])\n",
    "min = np.min(arr,axis=0)\n",
    "print(arr,'\\n')\n",
    "print(min)"
   ]
  },
  {
   "cell_type": "markdown",
   "id": "74f39080-ebaf-410c-bde5-937c5f8c945a",
   "metadata": {},
   "source": [
    "##### Maximum in rows"
   ]
  },
  {
   "cell_type": "code",
   "execution_count": 33,
   "id": "0faf1e53-2935-4ac0-a6c7-d4e7401f7009",
   "metadata": {},
   "outputs": [
    {
     "name": "stdout",
     "output_type": "stream",
     "text": [
      "[[ 2 14  3]\n",
      " [ 9  5  6]] \n",
      "\n",
      "[14  9]\n"
     ]
    }
   ],
   "source": [
    "arr = np.array([[2,14,3],[9,5,6]])\n",
    "max = np.max(arr,axis=1)\n",
    "print(arr,'\\n')\n",
    "print(max)"
   ]
  },
  {
   "cell_type": "markdown",
   "id": "01faaebe-4f53-4963-98fd-b21284b6e45a",
   "metadata": {},
   "source": [
    "##### Minimum in rows"
   ]
  },
  {
   "cell_type": "code",
   "execution_count": 34,
   "id": "e7be7dda-2563-4182-8fca-5d417e8b8cd7",
   "metadata": {},
   "outputs": [
    {
     "name": "stdout",
     "output_type": "stream",
     "text": [
      "[[ 2 14  3]\n",
      " [ 9  5  6]] \n",
      "\n",
      "[2 5]\n"
     ]
    }
   ],
   "source": [
    "arr = np.array([[2,14,3],[9,5,6]])\n",
    "min = np.min(arr,axis=1)\n",
    "print(arr,'\\n')\n",
    "print(min)"
   ]
  },
  {
   "cell_type": "markdown",
   "id": "900ec5b1-d83f-47ab-875c-9810e9a99450",
   "metadata": {},
   "source": [
    "- ##### There are two more functions argmax() and argmin(). These works exactly same as max() and min() but returns the index of searched <br> maximum and minimum elements.\n"
   ]
  },
  {
   "cell_type": "markdown",
   "id": "9331df68-7fb0-4f9c-be82-e32ff4f13013",
   "metadata": {
    "jp-MarkdownHeadingCollapsed": true
   },
   "source": [
    "### Broadcasting in numpy arrays\n",
    "#### Broadcasting in NumPy refers to the ability to perform element-wise operations on arrays of different shapes, by automatically expanding the smaller array to match the shape of the larger array. This is done without actually creating copies of the data, making it very memory efficient."
   ]
  },
  {
   "cell_type": "markdown",
   "id": "c430e105-9d1a-4951-ab59-b33c5cc607c3",
   "metadata": {},
   "source": [
    "##### Rules : \n",
    "- Dimensions Compatibility: The dimensions of the arrays being operated on must either be the same, or one of them must be 1.\n",
    "- Size Compatibility: The size of the dimensions must be either the same or one of them must be 1."
   ]
  },
  {
   "cell_type": "markdown",
   "id": "a40bffc0-1d9a-4911-a25c-549f15d08566",
   "metadata": {},
   "source": [
    "#### 1. Broadcasting a Scalar to an Array\n",
    "A scalar value is broadcasted across all elements of an array. NumPy automatically expands the scalar to match the shape of the array.\n"
   ]
  },
  {
   "cell_type": "code",
   "execution_count": 36,
   "id": "3f54f490-f146-43b2-a065-1006c7e5af02",
   "metadata": {},
   "outputs": [
    {
     "name": "stdout",
     "output_type": "stream",
     "text": [
      "[11 12 13 14 15]\n"
     ]
    }
   ],
   "source": [
    "arr = np.array([1, 2, 3, 4, 5])\n",
    "scalar = 10\n",
    "\n",
    "result = arr + scalar  # Scalar is broadcasted to match the shape of arr\n",
    "\n",
    "print(result) "
   ]
  },
  {
   "cell_type": "markdown",
   "id": "261f1eec-1a44-4c38-9850-ff482d0d24bd",
   "metadata": {},
   "source": [
    "#### 2. Broadcasting a 1D Array to a 2D Array\n",
    "A (1, n) array is broadcasted to an (m, n) array. Here, arr_1d is added to each row of arr_2d."
   ]
  },
  {
   "cell_type": "code",
   "execution_count": 37,
   "id": "1798a585-67d2-458f-b219-30c3245f7c9c",
   "metadata": {},
   "outputs": [
    {
     "name": "stdout",
     "output_type": "stream",
     "text": [
      "[[11 22 33]\n",
      " [14 25 36]]\n"
     ]
    }
   ],
   "source": [
    "import numpy as np\n",
    "\n",
    "arr_2d = np.array([[1, 2, 3], [4, 5, 6]])  # Shape (2,3)\n",
    "arr_1d = np.array([10, 20, 30])  # Shape (3,)\n",
    "\n",
    "result = arr_2d + arr_1d  # arr_1d is broadcasted along rows\n",
    "\n",
    "print(result)"
   ]
  },
  {
   "cell_type": "markdown",
   "id": "579cedcf-b210-418e-acb6-45aeb99e962b",
   "metadata": {},
   "source": [
    "#### 3. Broadcasting a Column Vector to a 2D Matrix\n",
    "A (m,1) array is broadcasted to an (m,n) array, meaning that the single column vector gets expanded across columns."
   ]
  },
  {
   "cell_type": "code",
   "execution_count": 38,
   "id": "e2a56c13-3495-4ddd-a20b-b6399ece8f2c",
   "metadata": {},
   "outputs": [
    {
     "name": "stdout",
     "output_type": "stream",
     "text": [
      "[[11 12 13]\n",
      " [24 25 26]]\n"
     ]
    }
   ],
   "source": [
    "import numpy as np\n",
    "\n",
    "arr_2d = np.array([[1, 2, 3], [4, 5, 6]])  # Shape (2,3)\n",
    "column_vector = np.array([[10], [20]])  # Shape (2,1)\n",
    "\n",
    "result = arr_2d + column_vector  # column_vector is broadcasted across columns\n",
    "\n",
    "print(result)"
   ]
  },
  {
   "cell_type": "markdown",
   "id": "0b8ace1d-4ecf-4989-955b-3623a15f082c",
   "metadata": {},
   "source": [
    "#### 4. Broadcasting Different Shapes (1D and 2D)\n",
    "Broadcasting happens when dimensions differ but are compatible. In this case, a row vector (arr_1d) is broadcasted across each <br> row of a column vector (arr_2d)."
   ]
  },
  {
   "cell_type": "code",
   "execution_count": 40,
   "id": "52d32a6d-ee1c-4179-99f5-c5bf2be3fe60",
   "metadata": {},
   "outputs": [
    {
     "name": "stdout",
     "output_type": "stream",
     "text": [
      "[[11 12 13]\n",
      " [21 22 23]\n",
      " [31 32 33]]\n"
     ]
    }
   ],
   "source": [
    "arr_1d = np.array([1, 2, 3])  # Shape (3,)\n",
    "arr_2d = np.array([[10], [20], [30]])  # Shape (3,1)\n",
    "\n",
    "result = arr_1d + arr_2d  # arr_1d is broadcasted along columns\n",
    "\n",
    "print(result)"
   ]
  },
  {
   "cell_type": "markdown",
   "id": "b99077f3-9b67-47dc-baa3-a4f70d285b5e",
   "metadata": {
    "jp-MarkdownHeadingCollapsed": true
   },
   "source": [
    "### Indexing and Slicing\n",
    "Indexing and slicing works same as string and list in numpy arrays."
   ]
  },
  {
   "cell_type": "markdown",
   "id": "abee8998-99dd-49b7-a565-1943c8b76d6b",
   "metadata": {},
   "source": [
    "- arr [row-start : row-end : row-step , column-start : column-end : column-step]"
   ]
  },
  {
   "cell_type": "code",
   "execution_count": 3,
   "id": "2102e506-15fc-4943-8357-9155417ef138",
   "metadata": {},
   "outputs": [
    {
     "name": "stdout",
     "output_type": "stream",
     "text": [
      "[[ 1  2  3  4  5]\n",
      " [ 6  7  8  9 10]\n",
      " [11 12 13 14 15]\n",
      " [16 17 18 19 20]]\n"
     ]
    }
   ],
   "source": [
    "arr = np.array([[1,2,3,4,5],[6,7,8,9,10],[11,12,13,14,15],[16,17,18,19,20]])\n",
    "print(arr)"
   ]
  },
  {
   "cell_type": "code",
   "execution_count": 67,
   "id": "d58d7011-344a-4aa6-a71e-114537052b40",
   "metadata": {},
   "outputs": [
    {
     "data": {
      "text/plain": [
       "array([[ 6,  7,  8,  9, 10],\n",
       "       [11, 12, 13, 14, 15]])"
      ]
     },
     "execution_count": 67,
     "metadata": {},
     "output_type": "execute_result"
    }
   ],
   "source": [
    "arr[1:3] # second and third row"
   ]
  },
  {
   "cell_type": "code",
   "execution_count": 66,
   "id": "9c2f8a01-bde9-4ea3-90b1-9f88a8571167",
   "metadata": {},
   "outputs": [
    {
     "data": {
      "text/plain": [
       "array([[ 6,  7,  8,  9, 10],\n",
       "       [16, 17, 18, 19, 20]])"
      ]
     },
     "execution_count": 66,
     "metadata": {},
     "output_type": "execute_result"
    }
   ],
   "source": [
    "arr[1::2] # every second row from 2nd row"
   ]
  },
  {
   "cell_type": "code",
   "execution_count": 65,
   "id": "511fda25-f795-44ab-a1a7-8b5ca8fcb554",
   "metadata": {},
   "outputs": [
    {
     "data": {
      "text/plain": [
       "array([[ 1,  2,  3,  4,  5],\n",
       "       [11, 12, 13, 14, 15]])"
      ]
     },
     "execution_count": 65,
     "metadata": {},
     "output_type": "execute_result"
    }
   ],
   "source": [
    "arr[::2] # every second row from 1st row"
   ]
  },
  {
   "cell_type": "code",
   "execution_count": 64,
   "id": "0b72ec46-6b5a-46e1-bfa4-a6dfc76d064f",
   "metadata": {},
   "outputs": [
    {
     "data": {
      "text/plain": [
       "array([[ 1,  2,  3,  4,  5],\n",
       "       [ 6,  7,  8,  9, 10]])"
      ]
     },
     "execution_count": 64,
     "metadata": {},
     "output_type": "execute_result"
    }
   ],
   "source": [
    "arr[:2] # first two rows"
   ]
  },
  {
   "cell_type": "code",
   "execution_count": 63,
   "id": "35a39d27-1cbc-420c-a46d-30eab657bcf2",
   "metadata": {},
   "outputs": [
    {
     "data": {
      "text/plain": [
       "array([[ 1,  2],\n",
       "       [ 6,  7],\n",
       "       [11, 12],\n",
       "       [16, 17]])"
      ]
     },
     "execution_count": 63,
     "metadata": {},
     "output_type": "execute_result"
    }
   ],
   "source": [
    "arr[:,:2] # first two columns"
   ]
  },
  {
   "cell_type": "code",
   "execution_count": 4,
   "id": "f6ecc382-9401-448b-b6ed-6dfbad4916bd",
   "metadata": {},
   "outputs": [
    {
     "data": {
      "text/plain": [
       "array([[ 8,  9, 10],\n",
       "       [13, 14, 15]])"
      ]
     },
     "execution_count": 4,
     "metadata": {},
     "output_type": "execute_result"
    }
   ],
   "source": [
    "arr[1:3,2:] "
   ]
  },
  {
   "cell_type": "code",
   "execution_count": 62,
   "id": "c641bf85-8e32-4469-bcf7-6cb1f022c857",
   "metadata": {},
   "outputs": [
    {
     "data": {
      "text/plain": [
       "array([[ 3,  4,  5],\n",
       "       [13, 14, 15]])"
      ]
     },
     "execution_count": 62,
     "metadata": {},
     "output_type": "execute_result"
    }
   ],
   "source": [
    "arr[::2,2:]"
   ]
  },
  {
   "cell_type": "code",
   "execution_count": 6,
   "id": "22c3254b-7f3e-4e73-8ed5-42fe93a6e9d0",
   "metadata": {},
   "outputs": [
    {
     "data": {
      "text/plain": [
       "array([[1, 2],\n",
       "       [6, 7]])"
      ]
     },
     "execution_count": 6,
     "metadata": {},
     "output_type": "execute_result"
    }
   ],
   "source": [
    "arr[:2,:2] # first two rows and columns"
   ]
  },
  {
   "cell_type": "markdown",
   "id": "893639f8-09ab-4941-846a-cd5eeafe665b",
   "metadata": {
    "jp-MarkdownHeadingCollapsed": true
   },
   "source": [
    "### Iteration over a numpy array"
   ]
  },
  {
   "cell_type": "code",
   "execution_count": 7,
   "id": "72e9dd1b-be32-4441-95fd-0c0f4da9ad5d",
   "metadata": {},
   "outputs": [
    {
     "name": "stdout",
     "output_type": "stream",
     "text": [
      "[[[ 1  2  3  4]\n",
      "  [ 5  6  7  8]\n",
      "  [ 9 10 11 12]]\n",
      "\n",
      " [[13 14 15 16]\n",
      "  [17 18 19 20]\n",
      "  [21 22 23 24]]]\n",
      "Shape: (2, 3, 4)\n"
     ]
    }
   ],
   "source": [
    "# Creating a 3D NumPy array (2x3x4)\n",
    "array_3d = np.array([\n",
    "    [[1, 2, 3, 4], [5, 6, 7, 8], [9, 10, 11, 12]], \n",
    "    [[13, 14, 15, 16], [17, 18, 19, 20], [21, 22, 23, 24]]\n",
    "])\n",
    "\n",
    "print(array_3d)\n",
    "print(\"Shape:\", array_3d.shape)  # Output: (2, 3, 4)\n"
   ]
  },
  {
   "cell_type": "markdown",
   "id": "f94e54d2-0507-4318-9ec7-7460ea43f967",
   "metadata": {},
   "source": [
    "- Poor approach and become difficult for the arrays having more no of dimensions."
   ]
  },
  {
   "cell_type": "code",
   "execution_count": 12,
   "id": "b50d7a2f-70c8-4e32-9bc2-5f8f9b7cadd3",
   "metadata": {},
   "outputs": [],
   "source": [
    "for i in array_3d:\n",
    "    for j in i:\n",
    "        for k in j:\n",
    "            print(k)"
   ]
  },
  {
   "cell_type": "markdown",
   "id": "3747e15a-8192-4e0d-9a1d-7f0f13d47d03",
   "metadata": {},
   "source": [
    "- Built in function in numpy for iterating an array."
   ]
  },
  {
   "cell_type": "code",
   "execution_count": 9,
   "id": "79ebc054-840a-4a15-a394-7425cd1cb51e",
   "metadata": {},
   "outputs": [
    {
     "name": "stdout",
     "output_type": "stream",
     "text": [
      "1\n",
      "2\n",
      "3\n",
      "4\n",
      "5\n",
      "6\n",
      "7\n",
      "8\n",
      "9\n",
      "10\n",
      "11\n",
      "12\n",
      "13\n",
      "14\n",
      "15\n",
      "16\n",
      "17\n",
      "18\n",
      "19\n",
      "20\n",
      "21\n",
      "22\n",
      "23\n",
      "24\n"
     ]
    }
   ],
   "source": [
    "for ele in np.nditer(array_3d):\n",
    "    print(ele)"
   ]
  },
  {
   "cell_type": "code",
   "execution_count": 16,
   "id": "bf7632ca-1a14-4508-94a3-baa5dc81d958",
   "metadata": {},
   "outputs": [
    {
     "name": "stdout",
     "output_type": "stream",
     "text": [
      "Index : (0, 0, 0) Element :  1\n",
      "Index : (0, 0, 1) Element :  2\n",
      "Index : (0, 0, 2) Element :  3\n",
      "Index : (0, 0, 3) Element :  4\n",
      "Index : (0, 1, 0) Element :  5\n",
      "Index : (0, 1, 1) Element :  6\n",
      "Index : (0, 1, 2) Element :  7\n",
      "Index : (0, 1, 3) Element :  8\n",
      "Index : (0, 2, 0) Element :  9\n",
      "Index : (0, 2, 1) Element :  10\n",
      "Index : (0, 2, 2) Element :  11\n",
      "Index : (0, 2, 3) Element :  12\n",
      "Index : (1, 0, 0) Element :  13\n",
      "Index : (1, 0, 1) Element :  14\n",
      "Index : (1, 0, 2) Element :  15\n",
      "Index : (1, 0, 3) Element :  16\n",
      "Index : (1, 1, 0) Element :  17\n",
      "Index : (1, 1, 1) Element :  18\n",
      "Index : (1, 1, 2) Element :  19\n",
      "Index : (1, 1, 3) Element :  20\n",
      "Index : (1, 2, 0) Element :  21\n",
      "Index : (1, 2, 1) Element :  22\n",
      "Index : (1, 2, 2) Element :  23\n",
      "Index : (1, 2, 3) Element :  24\n"
     ]
    }
   ],
   "source": [
    "for index,ele in np.ndenumerate(array_3d):\n",
    "    print('Index :',index,'Element : ',ele)"
   ]
  },
  {
   "cell_type": "markdown",
   "id": "ba4247c1-c9be-4543-9823-22efadf85080",
   "metadata": {
    "jp-MarkdownHeadingCollapsed": true
   },
   "source": [
    "### Joining and Spliting"
   ]
  },
  {
   "cell_type": "code",
   "execution_count": 19,
   "id": "ad529f59-9f1a-4680-aec3-33f4966d06f5",
   "metadata": {},
   "outputs": [],
   "source": [
    "arr1 = np.array([[1,2,3],[4,5,6]])\n",
    "arr2 = np.array([[7,8,9],[10,11,12]])"
   ]
  },
  {
   "cell_type": "code",
   "execution_count": 22,
   "id": "37768a97-f16d-45d8-891f-1e9ffd5e21a8",
   "metadata": {},
   "outputs": [
    {
     "data": {
      "text/plain": [
       "array([[ 1,  2,  3],\n",
       "       [ 4,  5,  6],\n",
       "       [ 7,  8,  9],\n",
       "       [10, 11, 12]])"
      ]
     },
     "execution_count": 22,
     "metadata": {},
     "output_type": "execute_result"
    }
   ],
   "source": [
    "result = np.concatenate((arr1,arr2)) # By default axis equals to 0 (row)\n",
    "result"
   ]
  },
  {
   "cell_type": "code",
   "execution_count": 24,
   "id": "fd0232c6-cb14-44bf-a93c-818a16caba78",
   "metadata": {},
   "outputs": [
    {
     "data": {
      "text/plain": [
       "array([[ 1,  2,  3,  7,  8,  9],\n",
       "       [ 4,  5,  6, 10, 11, 12]])"
      ]
     },
     "execution_count": 24,
     "metadata": {},
     "output_type": "execute_result"
    }
   ],
   "source": [
    "result = np.concatenate((arr1,arr2),axis =1)\n",
    "result"
   ]
  },
  {
   "cell_type": "code",
   "execution_count": 31,
   "id": "bd5606d3-531d-4ffa-ade4-e19ad4cfe698",
   "metadata": {},
   "outputs": [
    {
     "data": {
      "text/plain": [
       "[array([[1, 2, 3]]), array([[4, 5, 6]])]"
      ]
     },
     "execution_count": 31,
     "metadata": {},
     "output_type": "execute_result"
    }
   ],
   "source": [
    "splitted = np.array_split(arr1,2)\n",
    "splitted"
   ]
  },
  {
   "cell_type": "markdown",
   "id": "aee27cb8-b5b6-4cd6-9916-e027d7dcb90a",
   "metadata": {},
   "source": [
    "### Searching in numpy array"
   ]
  },
  {
   "cell_type": "markdown",
   "id": "663e2bc9-c6c3-47f1-b53f-66a76c3bde01",
   "metadata": {},
   "source": [
    "#### Where():\n",
    "How It Works Internally\n",
    "The where() function:\n",
    "\n",
    "Creates a boolean mask from the given condition.\n",
    "Finds the indices where the condition is True (if only the condition is given).\n",
    "Selects elements from x (if the condition is True) or from y (if the condition is False)."
   ]
  },
  {
   "cell_type": "code",
   "execution_count": 34,
   "id": "fbb3670f-f272-4c8f-8ce9-3c66de934e40",
   "metadata": {},
   "outputs": [
    {
     "data": {
      "text/plain": [
       "(array([ 0,  3,  9, 11, 12]),)"
      ]
     },
     "execution_count": 34,
     "metadata": {},
     "output_type": "execute_result"
    }
   ],
   "source": [
    "arr = np.array([2,5,1,8,9,3,11,17,23,12,21,16,22])\n",
    "even = np.where(arr % 2 == 0) # Find indices of even numbers\n",
    "even"
   ]
  },
  {
   "cell_type": "code",
   "execution_count": 35,
   "id": "e964fa60-3f16-4508-9b2d-a688daab8300",
   "metadata": {},
   "outputs": [
    {
     "name": "stdout",
     "output_type": "stream",
     "text": [
      "[ 0  0  0  0  0  0 11 17 23 12 21 16 22]\n"
     ]
    }
   ],
   "source": [
    "modified_arr = np.where(arr < 10, 0, arr)\n",
    "\n",
    "print(modified_arr)"
   ]
  },
  {
   "cell_type": "code",
   "execution_count": 37,
   "id": "af7ad3da-ab23-4af8-b679-fbd9c0e05224",
   "metadata": {},
   "outputs": [
    {
     "name": "stdout",
     "output_type": "stream",
     "text": [
      "[5 8 9]\n"
     ]
    }
   ],
   "source": [
    "result = np.where((arr >= 5) & (arr <= 10))\n",
    "\n",
    "print(arr[result])  # Output: [5 8 9 11 17 12 16]\n"
   ]
  },
  {
   "cell_type": "code",
   "execution_count": 40,
   "id": "a0dd0a5c-56a9-4237-a841-368d7b884925",
   "metadata": {},
   "outputs": [
    {
     "name": "stdout",
     "output_type": "stream",
     "text": [
      "['EVEN' 'ODD' 'ODD' 'EVEN' 'ODD' 'ODD' 'ODD' 'ODD' 'ODD' 'EVEN' 'ODD'\n",
      " 'EVEN' 'EVEN']\n"
     ]
    }
   ],
   "source": [
    "labels = np.where(arr % 2 == 0, \"EVEN\", \"ODD\")\n",
    "\n",
    "print(labels)"
   ]
  }
 ],
 "metadata": {
  "kernelspec": {
   "display_name": "Python 3 (ipykernel)",
   "language": "python",
   "name": "python3"
  },
  "language_info": {
   "codemirror_mode": {
    "name": "ipython",
    "version": 3
   },
   "file_extension": ".py",
   "mimetype": "text/x-python",
   "name": "python",
   "nbconvert_exporter": "python",
   "pygments_lexer": "ipython3",
   "version": "3.13.2"
  }
 },
 "nbformat": 4,
 "nbformat_minor": 5
}
